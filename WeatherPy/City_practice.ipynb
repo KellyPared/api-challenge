{
 "cells": [
  {
   "cell_type": "code",
   "execution_count": 26,
   "id": "c52af1c8",
   "metadata": {},
   "outputs": [],
   "source": [
    "from api_keys import weather_api_key"
   ]
  },
  {
   "cell_type": "code",
   "execution_count": 1,
   "id": "17ec6a5d",
   "metadata": {},
   "outputs": [
    {
     "data": {
      "text/plain": [
       "<citipy.citipy.City at 0x7fe0bd654670>"
      ]
     },
     "execution_count": 1,
     "metadata": {},
     "output_type": "execute_result"
    }
   ],
   "source": [
    "from citipy import citipy\n",
    "city = citipy.nearest_city(22.99, 120.21)\n",
    "city"
   ]
  },
  {
   "cell_type": "code",
   "execution_count": 2,
   "id": "8cccd77a",
   "metadata": {},
   "outputs": [
    {
     "data": {
      "text/plain": [
       "'tainan'"
      ]
     },
     "execution_count": 2,
     "metadata": {},
     "output_type": "execute_result"
    }
   ],
   "source": [
    "city.city_name"
   ]
  },
  {
   "cell_type": "code",
   "execution_count": 3,
   "id": "af3e0dc0",
   "metadata": {},
   "outputs": [
    {
     "data": {
      "text/plain": [
       "'tw'"
      ]
     },
     "execution_count": 3,
     "metadata": {},
     "output_type": "execute_result"
    }
   ],
   "source": [
    "city.country_code"
   ]
  },
  {
   "cell_type": "code",
   "execution_count": 5,
   "id": "361a7016",
   "metadata": {},
   "outputs": [
    {
     "data": {
      "text/plain": [
       "'iglesias'"
      ]
     },
     "execution_count": 5,
     "metadata": {},
     "output_type": "execute_result"
    }
   ],
   "source": [
    "cityP = citipy.nearest_city(39.3999, 8.2245)\n",
    "cityP.city_name"
   ]
  },
  {
   "cell_type": "code",
   "execution_count": 10,
   "id": "83434075",
   "metadata": {},
   "outputs": [],
   "source": [
    "import random"
   ]
  },
  {
   "cell_type": "code",
   "execution_count": 34,
   "id": "9c36314a",
   "metadata": {},
   "outputs": [],
   "source": [
    "city_list = []\n",
    "for i in range(20):\n",
    "    lat = random.uniform(23, -4)\n",
    "    long = random.uniform(-99,17)\n",
    "    city_random = citipy.nearest_city(lat,long)\n",
    "    c = city_random.city_name\n",
    "    city_list.append(c)"
   ]
  },
  {
   "cell_type": "code",
   "execution_count": null,
   "id": "250da9f3",
   "metadata": {},
   "outputs": [],
   "source": []
  },
  {
   "cell_type": "code",
   "execution_count": 35,
   "id": "a740815b",
   "metadata": {},
   "outputs": [
    {
     "data": {
      "text/plain": [
       "['trairi',\n",
       " 'limon',\n",
       " 'bathsheba',\n",
       " 'bathsheba',\n",
       " 'boundiali',\n",
       " 'progreso',\n",
       " 'goderich',\n",
       " 'bonthe',\n",
       " 'champerico',\n",
       " 'afua',\n",
       " 'mossendjo',\n",
       " 'harper',\n",
       " 'richard toll',\n",
       " 'touros',\n",
       " 'puerto ayora',\n",
       " 'cozumel',\n",
       " 'mosquera',\n",
       " 'sao filipe',\n",
       " 'puerto rondon',\n",
       " 'champerico']"
      ]
     },
     "execution_count": 35,
     "metadata": {},
     "output_type": "execute_result"
    }
   ],
   "source": [
    "city_list"
   ]
  },
  {
   "cell_type": "code",
   "execution_count": 32,
   "id": "ed17cd54",
   "metadata": {},
   "outputs": [
    {
     "name": "stdout",
     "output_type": "stream",
     "text": [
      "{'coord': {'lon': -2.947, 'lat': 42.6865}, 'weather': [{'id': 804, 'main': 'Clouds', 'description': 'overcast clouds', 'icon': '04d'}], 'base': 'stations', 'main': {'temp': 277.62, 'feels_like': 275.7, 'temp_min': 277.12, 'temp_max': 278.05, 'pressure': 1026, 'humidity': 90, 'sea_level': 1026, 'grnd_level': 970}, 'visibility': 6708, 'wind': {'speed': 2.2, 'deg': 352, 'gust': 6.21}, 'clouds': {'all': 90}, 'dt': 1674317746, 'sys': {'type': 1, 'id': 6438, 'country': 'ES', 'sunrise': 1674286562, 'sunset': 1674320974}, 'timezone': 3600, 'id': 3116689, 'name': 'Miranda de Ebro', 'cod': 200}\n"
     ]
    }
   ],
   "source": [
    "#OPENWEATHERMAP API\n",
    "import requests\n",
    "for city in city_list:\n",
    "    r = requests.get(f'https://api.openweathermap.org/data/2.5/weather?q={city}&appid={weather_api_key}')\n",
    "    \n",
    "print(r.json())\n",
    "    "
   ]
  },
  {
   "cell_type": "code",
   "execution_count": null,
   "id": "48dd0877",
   "metadata": {},
   "outputs": [],
   "source": []
  }
 ],
 "metadata": {
  "kernelspec": {
   "display_name": "PythonData",
   "language": "python",
   "name": "pythondata"
  },
  "language_info": {
   "codemirror_mode": {
    "name": "ipython",
    "version": 3
   },
   "file_extension": ".py",
   "mimetype": "text/x-python",
   "name": "python",
   "nbconvert_exporter": "python",
   "pygments_lexer": "ipython3",
   "version": "3.9.12"
  }
 },
 "nbformat": 4,
 "nbformat_minor": 5
}
